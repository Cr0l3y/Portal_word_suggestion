{
 "cells": [
  {
   "cell_type": "code",
   "execution_count": null,
   "metadata": {},
   "outputs": [],
   "source": [
    "import pandas as pd\n",
    "import tensorflow as tf\n",
    "from sklearn.model_selection import train_test_split"
   ]
  },
  {
   "cell_type": "code",
   "execution_count": null,
   "metadata": {},
   "outputs": [],
   "source": [
    "dados = pd.read_csv(\"train.csv\", header=None, names=[\"ClassIndex\", \"Título\",\"Descrição\"])\n",
    "dados.head(5)"
   ]
  },
  {
   "cell_type": "code",
   "execution_count": null,
   "metadata": {},
   "outputs": [
    {
     "data": {
      "text/plain": [
       "0         Wall St. Bears Claw Back Into the Black (Reute...\n",
       "1         Carlyle Looks Toward Commercial Aerospace (Reu...\n",
       "2         Oil and Economy Cloud Stocks' Outlook (Reuters...\n",
       "3         Iraq Halts Oil Exports from Main Southern Pipe...\n",
       "4         Oil prices soar to all-time record, posing new...\n",
       "                                ...                        \n",
       "119995    Pakistan's Musharraf Says Won't Quit as Army C...\n",
       "119996          Renteria signing a top-shelf deal Descrição\n",
       "119997            Saban not going to Dolphins yet Descrição\n",
       "119998                          Today's NFL games Descrição\n",
       "119999               Nets get Carter from Raptors Descrição\n",
       "Name: Texto, Length: 120000, dtype: object"
      ]
     },
     "execution_count": 5,
     "metadata": {},
     "output_type": "execute_result"
    }
   ],
   "source": [
    "dados[\"Texto\"] = dados[\"Título\"]+ \" \" + [\"Descrição\"]\n",
    "dados[\"Texto\"]"
   ]
  },
  {
   "cell_type": "code",
   "execution_count": null,
   "metadata": {},
   "outputs": [],
   "source": [
    "dados[\"ClassIndex\"] = dados[\"ClassIndex\"]-1\n",
    "\n",
    "x_treino, x_teste, y_treino, y_teste = train_test_split(\n",
    "    dados[\"Texto\"].values, \n",
    "    dados[\"ClassIndex\"].values, \n",
    "    test_size=0.2, \n",
    "    random_state=4256\n",
    ")"
   ]
  },
  {
   "cell_type": "code",
   "execution_count": null,
   "metadata": {},
   "outputs": [],
   "source": [
    "glossario = 1000\n",
    "encoder = tf.keras.layers.TextVectorization(max_tokens=glossario)\n",
    "encoder.adapt(x_treino)"
   ]
  },
  {
   "cell_type": "code",
   "execution_count": null,
   "metadata": {},
   "outputs": [],
   "source": [
    "modelo = tf.keras.Sequential([\n",
    "    encoder,\n",
    "    tf.keras.layers.Embedding(\n",
    "        input_dim= len(encoder.get_vocabulary()),\n",
    "        output_dim= 16,\n",
    "        mask_zero= True\n",
    "    ),\n",
    "    tf.keras.layers.GlobalAveragePooling1D(),\n",
    "    tf.keras.layers.Dense(16, activation=\"relu\"),\n",
    "    tf.keras.layers.Dense(4, activation=\"softmax\")\n",
    "])\n",
    "\n",
    "modelo.compile(\n",
    "    optimizer=tf.keras.optimizers.Adam(learning_rate=1e-4),  \n",
    "    loss=\"sparse_categorical_crossentropy\",  \n",
    "    metrics=[\"accuracy\"]  \n",
    ")"
   ]
  },
  {
   "cell_type": "code",
   "execution_count": null,
   "metadata": {},
   "outputs": [],
   "source": []
  },
  {
   "cell_type": "code",
   "execution_count": null,
   "metadata": {},
   "outputs": [],
   "source": []
  },
  {
   "cell_type": "code",
   "execution_count": null,
   "metadata": {},
   "outputs": [],
   "source": []
  },
  {
   "cell_type": "markdown",
   "metadata": {},
   "source": [
    "fazendo teste\n",
    "treinando dados\n",
    "\n",
    "\n",
    "\n",
    "\n"
   ]
  }
 ],
 "metadata": {
  "kernelspec": {
   "display_name": "base",
   "language": "python",
   "name": "python3"
  },
  "language_info": {
   "codemirror_mode": {
    "name": "ipython",
    "version": 3
   },
   "file_extension": ".py",
   "mimetype": "text/x-python",
   "name": "python",
   "nbconvert_exporter": "python",
   "pygments_lexer": "ipython3",
   "version": "3.11.5"
  }
 },
 "nbformat": 4,
 "nbformat_minor": 2
}
